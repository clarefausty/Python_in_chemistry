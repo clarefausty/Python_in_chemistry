{
  "nbformat": 4,
  "nbformat_minor": 0,
  "metadata": {
    "colab": {
      "provenance": [],
      "authorship_tag": "ABX9TyOCVjvl7S/k6NizarFUkqBQ",
      "include_colab_link": true
    },
    "kernelspec": {
      "name": "python3",
      "display_name": "Python 3"
    },
    "language_info": {
      "name": "python"
    }
  },
  "cells": [
    {
      "cell_type": "markdown",
      "metadata": {
        "id": "view-in-github",
        "colab_type": "text"
      },
      "source": [
        "<a href=\"https://colab.research.google.com/github/clarefausty/Python_in_chemistry/blob/main/Using_Python_to_calculate_Chemistry_questions_I.ipynb\" target=\"_parent\"><img src=\"https://colab.research.google.com/assets/colab-badge.svg\" alt=\"Open In Colab\"/></a>"
      ]
    },
    {
      "cell_type": "markdown",
      "source": [
        "Create a Python program that calculate the number of moles by giving the mass of the substance and the molecular weight."
      ],
      "metadata": {
        "id": "E31lt_VFPOO8"
      }
    },
    {
      "cell_type": "markdown",
      "source": [
        "Declare variables"
      ],
      "metadata": {
        "id": "3Wu5RY37PoOh"
      }
    },
    {
      "cell_type": "code",
      "source": [
        "Mass = int(input(\"enter the Mass of the compound (g): \"))\n",
        "molarMass = int(input(\"enter the molarMass of the compound (g/mol): \"))\n",
        "nmoles = Mass/molarMass\n",
        "print(\"no of moles is \", nmoles, \"moles\")"
      ],
      "metadata": {
        "id": "8jXv-2dZPr7r"
      },
      "execution_count": null,
      "outputs": []
    },
    {
      "cell_type": "markdown",
      "source": [
        "Create a python program that calculate Density of Compounds.\n"
      ],
      "metadata": {
        "id": "XWGKvyMAYLhg"
      }
    },
    {
      "cell_type": "code",
      "source": [],
      "metadata": {
        "id": "7X7m6Gi3nz8-"
      },
      "execution_count": null,
      "outputs": []
    },
    {
      "cell_type": "code",
      "source": [
        "mass = float(input(\"enter the mass of the compound (g): \"))\n",
        "volume = float(input(\"enter the volume of the compound (cm3): \"))\n",
        "density = mass/volume\n",
        "print(\"The density is\", round(density,2), \"g/cm3\")"
      ],
      "metadata": {
        "id": "iVlK7e8EZMLY"
      },
      "execution_count": null,
      "outputs": []
    },
    {
      "cell_type": "markdown",
      "source": [
        "The atomic masses of C, H, and O are repectively 12, 1 and 16. Write a python program that calculate molecular weight of a substance, by user inputs of each atoms of the substance."
      ],
      "metadata": {
        "id": "z84Q0v6hcaV1"
      }
    },
    {
      "cell_type": "markdown",
      "source": [
        "Atomic Masses\n"
      ],
      "metadata": {
        "id": "AFW9Cvq6g1rD"
      }
    },
    {
      "cell_type": "code",
      "source": [
        "C = 12\n",
        "H = 1\n",
        "O = 16"
      ],
      "metadata": {
        "id": "5Rp9h6RAhBpH"
      },
      "execution_count": null,
      "outputs": []
    },
    {
      "cell_type": "markdown",
      "source": [
        "Number of Elements\n"
      ],
      "metadata": {
        "id": "0PuD9xXthdlx"
      }
    },
    {
      "cell_type": "code",
      "source": [
        "num_of_C = int(input(\"how many Carbons are there in the compound\"))\n",
        "num_of_H = int(input(\"how many Hydrogens are there in the compound\"))\n",
        "num_of_O = int(input(\"how many Oxygens are there in the compound\"))"
      ],
      "metadata": {
        "id": "L3CAFsm7hlzG"
      },
      "execution_count": null,
      "outputs": []
    },
    {
      "cell_type": "markdown",
      "source": [
        "Formula"
      ],
      "metadata": {
        "id": "C2seIYSpjfnW"
      }
    },
    {
      "cell_type": "code",
      "source": [
        "molWeight = C*num_of_C + H*num_of_H + O*num_of_O"
      ],
      "metadata": {
        "id": "-CI408KFjiJf"
      },
      "execution_count": null,
      "outputs": []
    },
    {
      "cell_type": "markdown",
      "source": [
        "Output"
      ],
      "metadata": {
        "id": "kx4_g7ZkmddD"
      }
    },
    {
      "cell_type": "code",
      "source": [
        "print(\"molecular weight:\", molWeight, \"g/mol\")"
      ],
      "metadata": {
        "id": "3eiHixg7mlZd"
      },
      "execution_count": null,
      "outputs": []
    }
  ]
}