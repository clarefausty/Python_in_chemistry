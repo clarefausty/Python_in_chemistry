{
  "nbformat": 4,
  "nbformat_minor": 0,
  "metadata": {
    "colab": {
      "provenance": [],
      "authorship_tag": "ABX9TyPcSjO51Sz+3qWJs0Lp0fMA",
      "include_colab_link": true
    },
    "kernelspec": {
      "name": "python3",
      "display_name": "Python 3"
    },
    "language_info": {
      "name": "python"
    }
  },
  "cells": [
    {
      "cell_type": "markdown",
      "metadata": {
        "id": "view-in-github",
        "colab_type": "text"
      },
      "source": [
        "<a href=\"https://colab.research.google.com/github/clarefausty/Python_in_chemistry/blob/main/Molecules_as_strings.ipynb\" target=\"_parent\"><img src=\"https://colab.research.google.com/assets/colab-badge.svg\" alt=\"Open In Colab\"/></a>"
      ]
    },
    {
      "cell_type": "markdown",
      "source": [
        "Given the following molecules:\n",
        "1. CCCCC\n",
        "2. CCC\n",
        "3. CCCCOH\n",
        "4. CC=CCCOH\n",
        "\n",
        "a.   Determine the number of carbon atoms in molecules 1 2 and 3.\n",
        "\n",
        "b.   Determine if the alcohol function (OH) is present in molecules 1 and 3.\n",
        "\n",
        "c.   Find the number of double bonds in the molecules 1 and 4.\n",
        "\n",
        "\n",
        "**solution**\n",
        "\n",
        "#Declare the variables"
      ],
      "metadata": {
        "id": "VVRBizT7kM-G"
      }
    },
    {
      "cell_type": "code",
      "source": [
        "mol1 = \"CCCCCCCCCCC\"\n",
        "mol2 = \"CCC=C\"\n",
        "mol3 = \"CCCCCCOH\"\n",
        "mol4 = \"CC=CCCOH\"\n",
        "\n",
        "mol1.count(\"C\")\n"
      ],
      "metadata": {
        "colab": {
          "base_uri": "https://localhost:8080/"
        },
        "id": "QeKA2h3dlxCS",
        "outputId": "63151cb1-89c9-4382-8d88-2486b14544e8"
      },
      "execution_count": 15,
      "outputs": [
        {
          "output_type": "execute_result",
          "data": {
            "text/plain": [
              "11"
            ]
          },
          "metadata": {},
          "execution_count": 15
        }
      ]
    },
    {
      "cell_type": "code",
      "source": [
        "mol2.count(\"C\")\n"
      ],
      "metadata": {
        "colab": {
          "base_uri": "https://localhost:8080/"
        },
        "id": "xdlOHRFbrh6h",
        "outputId": "5f3b0039-1572-438c-997b-a26c0b1d4704"
      },
      "execution_count": 14,
      "outputs": [
        {
          "output_type": "execute_result",
          "data": {
            "text/plain": [
              "4"
            ]
          },
          "metadata": {},
          "execution_count": 14
        }
      ]
    },
    {
      "cell_type": "code",
      "source": [
        "mol3.count(\"C\")"
      ],
      "metadata": {
        "id": "bLWT7aG1rny3"
      },
      "execution_count": null,
      "outputs": []
    },
    {
      "cell_type": "markdown",
      "source": [
        "#To determine if alcohol functional group is present in molecules 1 and 3\n",
        "\n",
        "---\n",
        "\n"
      ],
      "metadata": {
        "id": "4rlqiX4iowfY"
      }
    },
    {
      "cell_type": "code",
      "source": [
        "\"OH\" in mol1"
      ],
      "metadata": {
        "colab": {
          "base_uri": "https://localhost:8080/"
        },
        "id": "VaWqCHXspNu_",
        "outputId": "74c8182f-4723-4c5c-9a33-991d7dca9799"
      },
      "execution_count": 9,
      "outputs": [
        {
          "output_type": "execute_result",
          "data": {
            "text/plain": [
              "False"
            ]
          },
          "metadata": {},
          "execution_count": 9
        }
      ]
    },
    {
      "cell_type": "code",
      "source": [
        "\"OH\" in mol3"
      ],
      "metadata": {
        "colab": {
          "base_uri": "https://localhost:8080/"
        },
        "id": "2Z-c7CIwq83Y",
        "outputId": "7995eeef-5830-40d8-dea4-a5e3e6754da0"
      },
      "execution_count": 16,
      "outputs": [
        {
          "output_type": "execute_result",
          "data": {
            "text/plain": [
              "True"
            ]
          },
          "metadata": {},
          "execution_count": 16
        }
      ]
    },
    {
      "cell_type": "markdown",
      "source": [
        "# To Find the number of double bonds in the molecules 1 and 4."
      ],
      "metadata": {
        "id": "ifO-Wrr6scHA"
      }
    },
    {
      "cell_type": "code",
      "source": [
        "mol1.count(\"OH\")"
      ],
      "metadata": {
        "colab": {
          "base_uri": "https://localhost:8080/"
        },
        "id": "gtgwWNhKsjZm",
        "outputId": "8ecea129-8128-410e-a8cf-2a65e647c510"
      },
      "execution_count": 18,
      "outputs": [
        {
          "output_type": "execute_result",
          "data": {
            "text/plain": [
              "0"
            ]
          },
          "metadata": {},
          "execution_count": 18
        }
      ]
    },
    {
      "cell_type": "code",
      "source": [
        "mol4.count(\"OH\")"
      ],
      "metadata": {
        "colab": {
          "base_uri": "https://localhost:8080/"
        },
        "id": "Oh1fIwi3sonN",
        "outputId": "dac8114f-037f-4f2b-d808-3759d5921f48"
      },
      "execution_count": 17,
      "outputs": [
        {
          "output_type": "execute_result",
          "data": {
            "text/plain": [
              "1"
            ]
          },
          "metadata": {},
          "execution_count": 17
        }
      ]
    }
  ]
}