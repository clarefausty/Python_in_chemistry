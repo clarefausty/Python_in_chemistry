{
  "nbformat": 4,
  "nbformat_minor": 0,
  "metadata": {
    "colab": {
      "provenance": [],
      "authorship_tag": "ABX9TyO2R16tho94LF5WY7UDITYZ",
      "include_colab_link": true
    },
    "kernelspec": {
      "name": "python3",
      "display_name": "Python 3"
    },
    "language_info": {
      "name": "python"
    }
  },
  "cells": [
    {
      "cell_type": "markdown",
      "metadata": {
        "id": "view-in-github",
        "colab_type": "text"
      },
      "source": [
        "<a href=\"https://colab.research.google.com/github/clarefausty/Python_in_chemistry/blob/main/Molecules_as_strings.ipynb\" target=\"_parent\"><img src=\"https://colab.research.google.com/assets/colab-badge.svg\" alt=\"Open In Colab\"/></a>"
      ]
    },
    {
      "cell_type": "markdown",
      "source": [
        "Given the following molecules:\n",
        "1. CCCCC\n",
        "2. CCC\n",
        "3. CCCCOH\n",
        "4. CC=CCCOH\n",
        "\n",
        "a.   Determine the number of carbon atoms in molecules 1 2 and 3.\n",
        "\n",
        "b.   Determine if the alcohol function (OH) is present in molecules 1 and 3.\n",
        "\n",
        "c.   Find the number of double bonds in the molecules 1 and 4.\n",
        "\n",
        "\n",
        "**solution**\n",
        "\n",
        "#Declare the variables"
      ],
      "metadata": {
        "id": "VVRBizT7kM-G"
      }
    },
    {
      "cell_type": "code",
      "source": [
        "mol1 = \"CCCCCCCCCCC\"\n",
        "mol2 = \"CCC=C\"\n",
        "mol3 = \"CCCCCCOH\"\n",
        "mol4 = \"CCCCC=CCCOH\"\n",
        "\n",
        "mol1.count(\"C\")\n"
      ],
      "metadata": {
        "colab": {
          "base_uri": "https://localhost:8080/"
        },
        "id": "QeKA2h3dlxCS",
        "outputId": "e919a82b-a65f-4da8-b7f5-5428aabfaa35"
      },
      "execution_count": 34,
      "outputs": [
        {
          "output_type": "execute_result",
          "data": {
            "text/plain": [
              "11"
            ]
          },
          "metadata": {},
          "execution_count": 34
        }
      ]
    },
    {
      "cell_type": "code",
      "source": [
        "mol2.count(\"C\")\n"
      ],
      "metadata": {
        "colab": {
          "base_uri": "https://localhost:8080/"
        },
        "id": "xdlOHRFbrh6h",
        "outputId": "35b01e51-3aac-46e8-b656-c5dd29aa5254"
      },
      "execution_count": 35,
      "outputs": [
        {
          "output_type": "execute_result",
          "data": {
            "text/plain": [
              "4"
            ]
          },
          "metadata": {},
          "execution_count": 35
        }
      ]
    },
    {
      "cell_type": "code",
      "source": [
        "mol3.count(\"C\")"
      ],
      "metadata": {
        "colab": {
          "base_uri": "https://localhost:8080/"
        },
        "id": "bLWT7aG1rny3",
        "outputId": "c5510959-aac2-4971-c1bd-0a62f2fae457"
      },
      "execution_count": 36,
      "outputs": [
        {
          "output_type": "execute_result",
          "data": {
            "text/plain": [
              "6"
            ]
          },
          "metadata": {},
          "execution_count": 36
        }
      ]
    },
    {
      "cell_type": "markdown",
      "source": [
        "#To determine if alcohol functional group is present in molecules 1 and 3\n",
        "\n",
        "---\n",
        "\n"
      ],
      "metadata": {
        "id": "4rlqiX4iowfY"
      }
    },
    {
      "cell_type": "code",
      "source": [
        "\"OH\" in mol1"
      ],
      "metadata": {
        "colab": {
          "base_uri": "https://localhost:8080/"
        },
        "id": "VaWqCHXspNu_",
        "outputId": "7f1852b6-38b7-4834-e19e-c7d7604064db"
      },
      "execution_count": 37,
      "outputs": [
        {
          "output_type": "execute_result",
          "data": {
            "text/plain": [
              "False"
            ]
          },
          "metadata": {},
          "execution_count": 37
        }
      ]
    },
    {
      "cell_type": "code",
      "source": [
        "\"OH\" in mol3"
      ],
      "metadata": {
        "colab": {
          "base_uri": "https://localhost:8080/"
        },
        "id": "2Z-c7CIwq83Y",
        "outputId": "6bacd1ef-22ab-4007-d66d-b92b3022184c"
      },
      "execution_count": 38,
      "outputs": [
        {
          "output_type": "execute_result",
          "data": {
            "text/plain": [
              "True"
            ]
          },
          "metadata": {},
          "execution_count": 38
        }
      ]
    },
    {
      "cell_type": "markdown",
      "source": [
        "# To Find the number of double bonds in the molecules 1 and 4."
      ],
      "metadata": {
        "id": "ifO-Wrr6scHA"
      }
    },
    {
      "cell_type": "code",
      "source": [
        "mol1.count(\"=\")"
      ],
      "metadata": {
        "colab": {
          "base_uri": "https://localhost:8080/"
        },
        "id": "gtgwWNhKsjZm",
        "outputId": "fd04522a-2b6f-46f9-a732-fca37d2bf461"
      },
      "execution_count": 39,
      "outputs": [
        {
          "output_type": "execute_result",
          "data": {
            "text/plain": [
              "0"
            ]
          },
          "metadata": {},
          "execution_count": 39
        }
      ]
    },
    {
      "cell_type": "code",
      "source": [
        "mol4.count(\"=\")"
      ],
      "metadata": {
        "colab": {
          "base_uri": "https://localhost:8080/"
        },
        "id": "Oh1fIwi3sonN",
        "outputId": "c367ef3b-25cc-47a6-83c3-d9e9d6b0e234"
      },
      "execution_count": 40,
      "outputs": [
        {
          "output_type": "execute_result",
          "data": {
            "text/plain": [
              "1"
            ]
          },
          "metadata": {},
          "execution_count": 40
        }
      ]
    },
    {
      "cell_type": "markdown",
      "source": [
        "#To Find the position of the double bonds in group 4"
      ],
      "metadata": {
        "id": "sfUwIhdgt6Rx"
      }
    },
    {
      "cell_type": "code",
      "source": [
        "mol4.find(\"=\")"
      ],
      "metadata": {
        "colab": {
          "base_uri": "https://localhost:8080/"
        },
        "id": "UgEdyULSuO7B",
        "outputId": "53c2954f-4154-445b-f719-e7b3dcdad78b"
      },
      "execution_count": 41,
      "outputs": [
        {
          "output_type": "execute_result",
          "data": {
            "text/plain": [
              "5"
            ]
          },
          "metadata": {},
          "execution_count": 41
        }
      ]
    }
  ]
}