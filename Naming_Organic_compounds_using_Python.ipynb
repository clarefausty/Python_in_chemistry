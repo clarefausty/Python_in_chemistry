{
  "nbformat": 4,
  "nbformat_minor": 0,
  "metadata": {
    "colab": {
      "provenance": [],
      "authorship_tag": "ABX9TyNMX4Qr5WqlwMNYV5M1bsFx",
      "include_colab_link": true
    },
    "kernelspec": {
      "name": "python3",
      "display_name": "Python 3"
    },
    "language_info": {
      "name": "python"
    }
  },
  "cells": [
    {
      "cell_type": "markdown",
      "metadata": {
        "id": "view-in-github",
        "colab_type": "text"
      },
      "source": [
        "<a href=\"https://colab.research.google.com/github/clarefausty/Python_in_chemistry/blob/main/Naming_Organic_compounds_using_Python.ipynb\" target=\"_parent\"><img src=\"https://colab.research.google.com/assets/colab-badge.svg\" alt=\"Open In Colab\"/></a>"
      ]
    },
    {
      "cell_type": "markdown",
      "source": [],
      "metadata": {
        "id": "rI4Jr23Jl6bK"
      }
    },
    {
      "cell_type": "markdown",
      "source": [
        "Organic compounds comprises of three parts:Prefix infix and sufix.\n",
        "\n",
        "Prefix: Naming by No of Carbons:\n",
        "\n",
        "One -met\n",
        "\n",
        "Two -eth\n",
        "\n",
        "Three -prop\n",
        "\n",
        "Four -but\n",
        "\n",
        "Five -pet\n",
        "\n",
        "Six -hex\n",
        "\n",
        "Seven -hept\n",
        "\n",
        "Eight -oct\n",
        "\n",
        "Nine -non\n",
        "\n",
        "\n",
        "infix: Naming by the No. of double bonds\n",
        "\n",
        "No doubles bonds: -an\n",
        "\n",
        "1 double bonds: -en\n",
        "\n",
        "2 double bonds: -adien\n",
        "\n",
        "Sufix: Determination of the functional groups:\n",
        "\n",
        "Carboxylic acid: -oic acid\n",
        "\n",
        "hydrocarbon: -e\n",
        "\n",
        "Alcohol: -ol\n",
        "Aldehyde: -al\n",
        "\n",
        "\n",
        "SMLES Codification:\n",
        "= double bonds\n",
        "COH Alcohol\n",
        "(C=O)H aldehyde\n",
        "(C=O)OH Carboxylic acid\n",
        "\n"
      ],
      "metadata": {
        "id": "9qD-FdD_l7Ej"
      }
    },
    {
      "cell_type": "markdown",
      "source": [
        "#Question\n",
        "Write a Python program that generates the name of an organic compound according to SMLES code.\n",
        "\n",
        "Example:\n",
        "\n",
        "in: CC=CCC(C=O)H\n",
        "out: Hexenal\n",
        "\n",
        "The program must generate the name according to these rules:\n",
        "\n",
        "Prefix- n of carbons\n",
        "\n",
        "One -met\n",
        "\n",
        "Two -eth\n",
        "\n",
        "Three -prop\n",
        "\n",
        "Four -but\n",
        "\n",
        "Five -pet\n",
        "\n",
        "Six -hex\n",
        "\n",
        "Seven -hept\n",
        "\n",
        "Eight -oct\n",
        "\n",
        "Nine -non\n",
        "\n",
        "\n",
        "infix- double bonds\n",
        "\n",
        "No doubles bonds: -an\n",
        "\n",
        "1 double bonds: -en\n",
        "\n",
        "2 double bonds: -adien\n",
        "\n",
        "\n",
        "sufix- functional groups\n",
        "\n",
        "Carboxylic acid: -oic acid\n",
        "\n",
        "hydrocarbon: -e\n",
        "\n",
        "Alcohol: -ol Aldehyde: -al"
      ],
      "metadata": {
        "id": "kSQ0aI_rsscl"
      }
    },
    {
      "cell_type": "code",
      "source": [
        "compB = str(input(\"Enter your compound as a SMILES:  \")).upper()\n",
        "prefix = \"\"\n",
        "infix = \"\"\n",
        "sufix = \"\"\n"
      ],
      "metadata": {
        "colab": {
          "base_uri": "https://localhost:8080/"
        },
        "id": "T-bV0Tdl0DV_",
        "outputId": "807a029d-d3cb-4441-b053-caaee8ff7f5d"
      },
      "execution_count": null,
      "outputs": [
        {
          "name": "stdout",
          "output_type": "stream",
          "text": [
            "Enter your compound as a SMILES:  CCCCCC(C=O)H\n"
          ]
        }
      ]
    },
    {
      "cell_type": "markdown",
      "source": [
        " # If Statement to Determine the Prefix"
      ],
      "metadata": {
        "id": "prc77EGK04MT"
      }
    },
    {
      "cell_type": "code",
      "source": [
        "if compB.count(\"C\") == 1 :\n",
        "  prefix = \"meth\"\n",
        "elif compB.count(\"C\") == 2:\n",
        "  prefix = \"eth\"\n",
        "elif compB.count(\"C\") == 3:\n",
        "  prefix = \"prop\"\n",
        "elif compB.count(\"C\") == 4:\n",
        "  prefix = \"but\"\n",
        "elif compB.count(\"C\") == 5:\n",
        "  prefix = \"pent\"\n",
        "elif compB.count(\"C\") == 6:\n",
        "  prefix = \"hex\"\n",
        "elif compB.count(\"C\") == 7:\n",
        "  prefix = \"hept\"\n",
        "elif compB.count(\"C\") == 8:\n",
        "  prefix = \"oct\"\n",
        "elif compB.count(\"C\") == 9:\n",
        "  prefix = \"non\"\n",
        "\n",
        "\n"
      ],
      "metadata": {
        "id": "Fg4Aw0sA1XpK"
      },
      "execution_count": null,
      "outputs": []
    },
    {
      "cell_type": "markdown",
      "source": [
        "#if statement for infix"
      ],
      "metadata": {
        "id": "OucH29VNg9KY"
      }
    },
    {
      "cell_type": "code",
      "source": [
        "if compB.count(\"C=C\") == 0:\n",
        "  infix = \"an\"\n",
        "elif compB.count(\"C=C\") == 1:\n",
        "  infix = \"en\"\n",
        "elif compB.count(\"C=C\") == 2:\n",
        "  infix = \"adien\""
      ],
      "metadata": {
        "id": "gipSsn5ChNWV"
      },
      "execution_count": null,
      "outputs": []
    },
    {
      "cell_type": "markdown",
      "source": [
        "#if statement for sufix\n"
      ],
      "metadata": {
        "id": "3SrQNsnIjDCe"
      }
    },
    {
      "cell_type": "code",
      "source": [
        "if \"COH\" in compB:\n",
        "  sufix = \"ol\"\n",
        "elif \"(C=O)H\" in compB:\n",
        "  sufix = \"al\"\n",
        "elif \"(C=O)OH\" in compB:\n",
        "  sufix = \"oic acid\"\n",
        "else:\n",
        "  sufix = \"e\""
      ],
      "metadata": {
        "id": "U-adFGpajLrM"
      },
      "execution_count": null,
      "outputs": []
    },
    {
      "cell_type": "markdown",
      "source": [
        "#Print CompB"
      ],
      "metadata": {
        "id": "0uycBZJ5kqJA"
      }
    },
    {
      "cell_type": "code",
      "source": [
        "compB = prefix+infix+sufix\n",
        "\n",
        "print(compB)"
      ],
      "metadata": {
        "colab": {
          "base_uri": "https://localhost:8080/"
        },
        "id": "uMEko-zPk0uD",
        "outputId": "42f07b14-895f-4e35-8d7c-e8069f257fdc"
      },
      "execution_count": null,
      "outputs": [
        {
          "output_type": "stream",
          "name": "stdout",
          "text": [
            "heptanal\n"
          ]
        }
      ]
    }
  ]
}