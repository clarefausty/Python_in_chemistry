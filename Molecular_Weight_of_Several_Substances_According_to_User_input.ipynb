{
  "nbformat": 4,
  "nbformat_minor": 0,
  "metadata": {
    "colab": {
      "provenance": [],
      "authorship_tag": "ABX9TyOwbsfrqSHfsFByJKi4UebS",
      "include_colab_link": true
    },
    "kernelspec": {
      "name": "python3",
      "display_name": "Python 3"
    },
    "language_info": {
      "name": "python"
    }
  },
  "cells": [
    {
      "cell_type": "markdown",
      "metadata": {
        "id": "view-in-github",
        "colab_type": "text"
      },
      "source": [
        "<a href=\"https://colab.research.google.com/github/clarefausty/Python_in_chemistry/blob/main/Molecular_Weight_of_Several_Substances_According_to_User_input.ipynb\" target=\"_parent\"><img src=\"https://colab.research.google.com/assets/colab-badge.svg\" alt=\"Open In Colab\"/></a>"
      ]
    },
    {
      "cell_type": "markdown",
      "source": [
        "Using loops, write a python program that asks the user the number of substances whose molecular weight she/he wants to calculate: These substances must have only carbon, hydrogen, and oxygen. Then, the program must ask the number of C's, H's, and O's in each molecule in order to calculate the molecular weight of all the molecules:\n"
      ],
      "metadata": {
        "id": "XWNM6xyJJOjZ"
      }
    },
    {
      "cell_type": "code",
      "source": [
        "mC = 12\n",
        "mH = 1\n",
        "mO = 16\n",
        "\n",
        "nMolecules = int(input(\"Enter the No of molecules you want to calculate their molecular weight: \"))\n",
        "\n",
        "for i in range(0, nMolecules):\n",
        "  nC = int(input(\"Enter the No of Carbon \"))\n",
        "  nH = int(input(\"Enter the No of Hydrogen \"))\n",
        "  nO = int(input(\"Enter the No of Oxygen \"))\n",
        "\n",
        "  molecularWeight = nC*mC + nH*mH + nO*mO\n",
        "\n",
        "  print(\"The molecular weight is \", molecularWeight, \"g/mol\" )\n"
      ],
      "metadata": {
        "colab": {
          "base_uri": "https://localhost:8080/"
        },
        "id": "fufjMRuqOCXS",
        "outputId": "26c7cd1f-c4b7-4878-c338-629f71ab6ebc"
      },
      "execution_count": 24,
      "outputs": [
        {
          "output_type": "stream",
          "name": "stdout",
          "text": [
            "Enter the No of molecules you want to calculate their molecular weight: 4\n",
            "Enter the No of Carbon 3\n",
            "Enter the No of Hydrogen 7\n",
            "Enter the No of Oxygen 1\n",
            "The molecular weight is  59 g/mol\n",
            "Enter the No of Carbon 6\n",
            "Enter the No of Hydrogen 6\n",
            "Enter the No of Oxygen 6\n",
            "The molecular weight is  174 g/mol\n",
            "Enter the No of Carbon 5\n",
            "Enter the No of Hydrogen 7\n",
            "Enter the No of Oxygen 4\n",
            "The molecular weight is  131 g/mol\n",
            "Enter the No of Carbon 6\n",
            "Enter the No of Hydrogen 6\n",
            "Enter the No of Oxygen 6\n",
            "The molecular weight is  174 g/mol\n"
          ]
        }
      ]
    }
  ]
}