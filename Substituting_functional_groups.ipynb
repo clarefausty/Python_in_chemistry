{
  "nbformat": 4,
  "nbformat_minor": 0,
  "metadata": {
    "colab": {
      "provenance": [],
      "authorship_tag": "ABX9TyNDQUJTk6nKLBbIpWPhD+nw",
      "include_colab_link": true
    },
    "kernelspec": {
      "name": "python3",
      "display_name": "Python 3"
    },
    "language_info": {
      "name": "python"
    }
  },
  "cells": [
    {
      "cell_type": "markdown",
      "metadata": {
        "id": "view-in-github",
        "colab_type": "text"
      },
      "source": [
        "<a href=\"https://colab.research.google.com/github/clarefausty/Python_in_chemistry/blob/main/Substituting_functional_groups.ipynb\" target=\"_parent\"><img src=\"https://colab.research.google.com/assets/colab-badge.svg\" alt=\"Open In Colab\"/></a>"
      ]
    },
    {
      "cell_type": "markdown",
      "source": [
        "Given the following molecules\n",
        "1. CCCCC(C=O)H\n",
        "2. C=C=COH\n",
        "3. CCCCCCOH\n",
        "\n",
        "Given the components:\n",
        "H O and H2O as strings\n",
        "\n",
        "\n",
        "a.   Replace the functional groups of molecules 1 2 and 3 by carboxylic acid\n",
        "\n",
        "b.   List Concatenate the strings of this compounds and their coefficients to draw the chemical equation: H2 + O2 = H2O\n",
        "\n"
      ],
      "metadata": {
        "id": "PcABjy235Ftz"
      }
    },
    {
      "cell_type": "markdown",
      "source": [
        "#Replacing the functional groups of molecules 1 2 and 3 by carboxylic acid"
      ],
      "metadata": {
        "id": "n8sAHuse6nMl"
      }
    },
    {
      "cell_type": "markdown",
      "source": [
        "Declare the varables"
      ],
      "metadata": {
        "id": "VTaKmplX6zDh"
      }
    },
    {
      "cell_type": "code",
      "source": [
        "mol1 = \"CCCCC(C=O)H\"\n",
        "mol2 = \"C=C=COH\"\n",
        "mol3 = \"CCCCCCOH\"\n",
        "\n",
        "mol1.replace(\"H\" , \"OH\" )"
      ],
      "metadata": {
        "colab": {
          "base_uri": "https://localhost:8080/",
          "height": 36
        },
        "id": "kctMX7_P638f",
        "outputId": "7371bbef-6238-400a-f8cd-c6a8ad98f3dc"
      },
      "execution_count": null,
      "outputs": [
        {
          "output_type": "execute_result",
          "data": {
            "text/plain": [
              "'CCCCC(C=O)OH'"
            ],
            "application/vnd.google.colaboratory.intrinsic+json": {
              "type": "string"
            }
          },
          "metadata": {},
          "execution_count": 4
        }
      ]
    },
    {
      "cell_type": "code",
      "source": [
        "mol2.replace(\"COH\" , \"(C=O)OH\")"
      ],
      "metadata": {
        "colab": {
          "base_uri": "https://localhost:8080/",
          "height": 36
        },
        "id": "bpRS--gC7XaZ",
        "outputId": "d34db73a-f97b-49f7-ba7b-b6f4d595a458"
      },
      "execution_count": null,
      "outputs": [
        {
          "output_type": "execute_result",
          "data": {
            "text/plain": [
              "'C=C=(C=O)OH'"
            ],
            "application/vnd.google.colaboratory.intrinsic+json": {
              "type": "string"
            }
          },
          "metadata": {},
          "execution_count": 5
        }
      ]
    },
    {
      "cell_type": "code",
      "source": [
        "mol3.replace(\"COH\" , \"(C=O)OH\")"
      ],
      "metadata": {
        "colab": {
          "base_uri": "https://localhost:8080/",
          "height": 36
        },
        "id": "S_3n8ysJ8qh5",
        "outputId": "240fa537-a2d8-491f-b861-2194a5e65428"
      },
      "execution_count": null,
      "outputs": [
        {
          "output_type": "execute_result",
          "data": {
            "text/plain": [
              "'CCCCC(C=O)OH'"
            ],
            "application/vnd.google.colaboratory.intrinsic+json": {
              "type": "string"
            }
          },
          "metadata": {},
          "execution_count": 6
        }
      ]
    }
  ]
}