{
  "nbformat": 4,
  "nbformat_minor": 0,
  "metadata": {
    "colab": {
      "provenance": [],
      "authorship_tag": "ABX9TyMIebP2tieOlQwqbK7NElfa",
      "include_colab_link": true
    },
    "kernelspec": {
      "name": "python3",
      "display_name": "Python 3"
    },
    "language_info": {
      "name": "python"
    }
  },
  "cells": [
    {
      "cell_type": "markdown",
      "metadata": {
        "id": "view-in-github",
        "colab_type": "text"
      },
      "source": [
        "<a href=\"https://colab.research.google.com/github/clarefausty/Python_in_chemistry/blob/main/identifying_functional_groups.ipynb\" target=\"_parent\"><img src=\"https://colab.research.google.com/assets/colab-badge.svg\" alt=\"Open In Colab\"/></a>"
      ]
    },
    {
      "cell_type": "markdown",
      "source": [
        "## Create a Python code that takes a SMILES string as input and then tells if the substance (in the form of a string ) is an alcohol an aldehyde or hydrocarbon.\n",
        "\n",
        "The following codification must be used for the SMILES:\n",
        "\n",
        "Alcohol: OH\n",
        "\n",
        "Aldehyde: (C=O)H\n",
        "\n",
        "Carboxylic acid: (C=O)OH"
      ],
      "metadata": {
        "id": "PcABjy235Ftz"
      }
    },
    {
      "cell_type": "markdown",
      "source": [],
      "metadata": {
        "id": "22DwPwlDNytq"
      }
    },
    {
      "cell_type": "code",
      "source": [
        "mol = str(input(\"Enter the molecule you want to identify the functional group:\")).upper()\n",
        "\n",
        "if  \"(C=O)OH\" in mol:\n",
        "  print(\"The compound is a carboxylic acid\")\n",
        "elif \"(C=O)H\" in mol:\n",
        "  print(\"The compound is an aldehyde\")\n",
        "elif \"OH\" in mol:\n",
        "  print(\"The compound is an alcohol\")\n",
        "else:\n",
        "  print(\"This is a hydrocarbon\")"
      ],
      "metadata": {
        "id": "o34LICB_Kaop"
      },
      "execution_count": null,
      "outputs": []
    },
    {
      "cell_type": "markdown",
      "source": [
        "Write a Python program that takes a molecule as SMLES as input and then tells whether the molecule has double bonds and heteroatoms.\n",
        "\n",
        "Examples\n",
        "CC=CC=COH\n",
        ">Has double bonds but not heteroatoms\n",
        "CC=CCCOCCOH\n",
        ">Has double bonds and heteroatoms\n",
        "CCCCCCOCCC\n",
        ">No double bonds but a heteroatom\n",
        "\n"
      ],
      "metadata": {
        "id": "Wo_qGwz1P4CV"
      }
    },
    {
      "cell_type": "code",
      "source": [
        "compA = str(input(\"Enter the Compound here:\")).upper()\n",
        "\n",
        "if \"=\" in compA:\n",
        "  if \"COC\" in compA:\n",
        "    print(\"Presence of double bonds and heteroatom\")\n",
        "  else:\n",
        "    print(\"Presence of double bonds and no heteroatom\")\n",
        "else:\n",
        "  if \"COC\" in compA:\n",
        "    print(\"Presence of heteroatom and absence of double bonds\")\n",
        "  else:\n",
        "    print(\"Absence of heteroatom and double bonds\")"
      ],
      "metadata": {
        "id": "T_Lx61STSuaK"
      },
      "execution_count": null,
      "outputs": []
    }
  ]
}
